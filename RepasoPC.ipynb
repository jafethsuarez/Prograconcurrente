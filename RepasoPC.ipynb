{
 "cells": [
  {
   "cell_type": "code",
   "execution_count": null,
   "id": "39da4532-7bf7-49b1-9933-adc0131f2f9c",
   "metadata": {},
   "outputs": [],
   "source": [
    "def fib(n):\n",
    "    a = 0\n",
    "    b = 1\n",
    "    \n",
    "    for k in range(n):\n",
    "        c = b+a\n",
    "        a = b\n",
    "        b = c\n",
    "    return a\n",
    "fib(6)"
   ]
  },
  {
   "cell_type": "code",
   "execution_count": 7,
   "id": "cc46f037-c4d0-48ed-9d3f-be7403466dd1",
   "metadata": {},
   "outputs": [],
   "source": [
    "import os\n",
    "import requests\n",
    "from requests.packages.urllib3.util.retry import Retry\n",
    "import time\n",
    "import queue\n",
    "from threading import Thread"
   ]
  },
  {
   "cell_type": "code",
   "execution_count": 8,
   "id": "522f2139-39f7-4a13-b208-7b8571cb9dd2",
   "metadata": {},
   "outputs": [],
   "source": [
    "SAVE_DIR = r'/UE/Practica_Concurrente/'"
   ]
  },
  {
   "cell_type": "code",
   "execution_count": 9,
   "id": "c52da1d7-99c4-4ca5-b235-bd8226bf257e",
   "metadata": {},
   "outputs": [
    {
     "name": "stdout",
     "output_type": "stream",
     "text": [
      "8\n",
      "image 1\n",
      "image 2\n",
      "image 3\n",
      "Invalid URL '': No scheme supplied. Perhaps you meant http://?\n",
      "image 5\n",
      "image 6\n",
      "image 7\n",
      "image 8\n",
      "Thread-34 (download_image) has joined\n",
      "Thread-35 (download_image) has joined\n",
      "Thread-36 (download_image) has joined\n",
      "Thread-37 (download_image) has joined\n",
      "Thread-38 (download_image) has joined\n",
      "Tiempo Descarga: 0.8330\n"
     ]
    }
   ],
   "source": [
    "#Using threading:\n",
    "image_count = 0\n",
    "\n",
    "#optional decorator_function\n",
    "#@decorator_function   \n",
    "def download_image(SAVE_DIR,q, session = None):\n",
    "        global image_count\n",
    "        if not session:\n",
    "                session = requests.Session()\n",
    "        while not q.empty():\n",
    "            \n",
    "            try:\n",
    "\n",
    "                    r = session.get(q.get(block = False))\n",
    "\n",
    "            except (requests.exceptions.RequestException, UnicodeError) as e:\n",
    "                print(e)\n",
    "                image_count += 1\n",
    "                q.task_done()\n",
    "                continue\n",
    "\n",
    "            image_count += 1\n",
    "            q.task_done()\n",
    "\n",
    "            print('image', image_count)\n",
    "            with open(os.path.join(\n",
    "                        SAVE_DIR, 'image_{}.jpg'.format(image_count)),\n",
    "                        'wb') as f:\n",
    "\n",
    "                f.write(r.content)\n",
    "                \n",
    "               \n",
    "\n",
    "q =queue.Queue()\n",
    "with open(r'/UE/Imagen.txt', 'rt') as f:\n",
    "    for i in range(8):\n",
    "        line = f.readline()\n",
    "        q.put(line.strip())\n",
    "print(q.qsize())\n",
    "\n",
    "\n",
    "threads = []\n",
    "start = time.time()\n",
    "for i in range(5):\n",
    "     t = Thread(target = download_image, \n",
    "                args = (SAVE_DIR,q))\n",
    "     #t.setDaemon(True)\n",
    "     threads.append(t)\n",
    "     t.start()\n",
    "q.join()\n",
    "\n",
    "for t in threads:\n",
    "    t.join()\n",
    "    print(t.name, 'has joined')\n",
    "\n",
    "end = time.time()\n",
    "print('Tiempo Descarga: {:.4f}'.format(end - start))"
   ]
  },
  {
   "cell_type": "code",
   "execution_count": 6,
   "id": "4316c4dc-8a15-4198-ba21-e4021f38975d",
   "metadata": {},
   "outputs": [
    {
     "name": "stdout",
     "output_type": "stream",
     "text": [
      "{'date': 'Mon, 01 Aug 2022 22:05:47 GMT', 'surrogate-key': '59f689233618a34bdbd549409b67eae20b9d5d52 wiki-es-doblaje thumblr original', 'content-disposition': 'inline; filename=\"Itachi_Uchiha_NS.png\"; filename*=UTF-8\\'\\'Itachi_Uchiha_NS.png', 'content-type': 'image/png', 'etag': 'CPCjvu/EkOECEAI=', 'x-thumbnailer': 'Thumblr', 'access-control-allow-origin': '*', 'access-control-allow-headers': 'Range', 'cache-control': 'public, max-age=31536000', 'content-length': '524021', 'x-envoy-upstream-service-time': '140', 'server': 'envoy', 'timing-allow-origin': '*', 'accept-ranges': 'bytes', 'x-cacheable': 'YES - FORCED', 'age': '6215977', 'vary': 'Accept', 'x-cache': 'ORIGIN, HIT, MISS', 'x-served-by': 'thumblr-66c466ccc5-kjt9s, wk-cdn-f1, wk-cdn-f3', 'x-cache-hits': 'ORIGIN, 290, 0'}\n",
      "{'date': 'Fri, 12 Aug 2022 16:01:24 GMT', 'surrogate-key': '460e92c866b3e9e6b2d6a9bd468c956df89a9f19 wiki-es-naruto thumblr original', 'content-disposition': 'inline; filename=\"Itachi_Uchiha_HD.png\"; filename*=UTF-8\\'\\'Itachi_Uchiha_HD.png', 'content-type': 'image/png', 'etag': 'CIutxKvb3eMCEAI=', 'x-thumbnailer': 'Thumblr', 'access-control-allow-origin': '*', 'access-control-allow-headers': 'Range', 'cache-control': 'public, max-age=31536000', 'content-length': '1176254', 'x-envoy-upstream-service-time': '156', 'server': 'envoy', 'timing-allow-origin': '*', 'accept-ranges': 'bytes', 'x-cacheable': 'YES - FORCED', 'age': '5287440', 'vary': 'Accept', 'x-cache': 'ORIGIN, HIT, MISS', 'x-served-by': 'thumblr-66c466ccc5-f8l4m, wk-cdn-f2, wk-cdn-f4', 'x-cache-hits': 'ORIGIN, 473, 0'}\n",
      "tiempo de descarga: 0.9279882907867432\n"
     ]
    }
   ],
   "source": [
    "import threading, os, platform, requests, json\n",
    "import time\n",
    "url_ = [\"https://static.wikia.nocookie.net/doblaje/images/4/44/Itachi_Uchiha_NS.png/revision/latest?cb=20130809162600&path-prefix=es\",\"https://static.wikia.nocookie.net/naruto/images/c/c8/Itachi_Uchiha_Parte_I_y_II_Anime.png/revision/latest?cb=20170113110759&path-prefix=es\"]\n",
    "time_ini = time.time()\n",
    "def download(x): \n",
    "    a = requests.get(x)\n",
    "    print(a.headers)\n",
    "    threading.current_thread()\n",
    "for i in range(len(url_)):\n",
    "    threading.Thread(target=download(url_[i])).start()\n",
    "time_Final=time.time()\n",
    "resta = time_Final-time_ini\n",
    "print (\"tiempo de descarga:\",resta)"
   ]
  },
  {
   "cell_type": "code",
   "execution_count": null,
   "id": "b4a24d9d-5ed4-430a-8e43-d31e358cf0c2",
   "metadata": {},
   "outputs": [],
   "source": []
  }
 ],
 "metadata": {
  "kernelspec": {
   "display_name": "Python 3 (ipykernel)",
   "language": "python",
   "name": "python3"
  },
  "language_info": {
   "codemirror_mode": {
    "name": "ipython",
    "version": 3
   },
   "file_extension": ".py",
   "mimetype": "text/x-python",
   "name": "python",
   "nbconvert_exporter": "python",
   "pygments_lexer": "ipython3",
   "version": "3.10.7"
  }
 },
 "nbformat": 4,
 "nbformat_minor": 5
}
