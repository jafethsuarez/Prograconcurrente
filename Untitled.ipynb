{
 "cells": [
  {
   "cell_type": "markdown",
   "id": "7772ab56",
   "metadata": {},
   "source": [
    "<!-- PROFILE LINK -->\n",
    "\n",
    "<h1 style = \"text-align:center; font-size: 30px\">PROGRAMACIÓN CONCURRENTE Y DISTRIBUIDA</h1>\n",
    "<a href =\"https://github.com/jafethsuarez\">\n",
    "<img src=\"https://avatars.githubusercontent.com/u/44213172?s=400&u=43d50fab6c8a3afe0f55339f51384a7b133bd37e&v=4\" style=\"float:left;vertical-align:centre\" width=\"110\" height=\"110\" title = \"Christian Vlaldimir Sucuzhanay Arevalo 21535220\">\n",
    "<a href =\"https://github.com/jafethsuarez?tab=repositories\">\n",
    "<img src=\"https://media-exp1.licdn.com/dms/image/C4D0BAQEu_Aa76fcmPw/company-logo_200_200/0/1630998679429?e=2159024400&v=beta&t=2feC9GG7RWCWizTqsK5HzDWB1TL2DOQuAVwnMf6FFvk\" title = \"M41\" alt=\"UE\" width=\"110\" height=\"110\" style=\"float:right;vertical-align:centre\">"
   ]
  },
  {
   "cell_type": "markdown",
   "id": "d58699d3",
   "metadata": {},
   "source": [
    "# Hands on 01\n"
   ]
  },
  {
   "cell_type": "markdown",
   "id": "4d4a3a9a",
   "metadata": {},
   "source": [
    "## Env.Setup, important comands."
   ]
  },
  {
   "cell_type": "code",
   "execution_count": 1,
   "id": "63c01c5f",
   "metadata": {},
   "outputs": [
    {
     "name": "stdout",
     "output_type": "stream",
     "text": [
      " El volumen de la unidad C es Windows\n",
      " El número de serie del volumen es: AA30-FC30\n",
      "\n",
      " Directorio de C:\\Users\\marco\\ue\\PrograConcurrente\n",
      "\n",
      "\n",
      " Directorio de C:\\Users\\marco\\ue\\PrograConcurrente\n",
      "\n"
     ]
    },
    {
     "name": "stderr",
     "output_type": "stream",
     "text": [
      "No se encuentra el archivo\n"
     ]
    }
   ],
   "source": [
    "ls #list files"
   ]
  },
  {
   "cell_type": "code",
   "execution_count": 2,
   "id": "9e89d036",
   "metadata": {},
   "outputs": [
    {
     "data": {
      "text/plain": [
       "'C:\\\\Users\\\\marco\\\\ue\\\\PrograConcurrente'"
      ]
     },
     "execution_count": 2,
     "metadata": {},
     "output_type": "execute_result"
    }
   ],
   "source": [
    "pwd # where I'm"
   ]
  },
  {
   "cell_type": "code",
   "execution_count": 3,
   "id": "9edc0248",
   "metadata": {},
   "outputs": [
    {
     "name": "stdout",
     "output_type": "stream",
     "text": [
      "On branch master\n",
      "\n",
      "No commits yet\n",
      "\n",
      "nothing to commit (create/copy files and use \"git add\" to track)\n"
     ]
    }
   ],
   "source": [
    "!git status #Status info"
   ]
  },
  {
   "cell_type": "code",
   "execution_count": 4,
   "id": "2b332e2c",
   "metadata": {},
   "outputs": [],
   "source": [
    "import os"
   ]
  },
  {
   "cell_type": "code",
   "execution_count": 5,
   "id": "e55374aa",
   "metadata": {},
   "outputs": [
    {
     "data": {
      "text/plain": [
       "8"
      ]
     },
     "execution_count": 5,
     "metadata": {},
     "output_type": "execute_result"
    }
   ],
   "source": [
    "os.cpu_count() #get total cores, es util para saber a cuantas filas asignar un core"
   ]
  },
  {
   "cell_type": "code",
   "execution_count": 6,
   "id": "1120ddc9",
   "metadata": {},
   "outputs": [
    {
     "data": {
      "text/plain": [
       "15216"
      ]
     },
     "execution_count": 6,
     "metadata": {},
     "output_type": "execute_result"
    }
   ],
   "source": [
    "os.getpid() #saber cuantos recursos esta usando el programa"
   ]
  },
  {
   "cell_type": "code",
   "execution_count": 7,
   "id": "73406ee2",
   "metadata": {},
   "outputs": [],
   "source": [
    "import platform as pl "
   ]
  },
  {
   "cell_type": "code",
   "execution_count": 8,
   "id": "89eabbdc",
   "metadata": {},
   "outputs": [
    {
     "data": {
      "text/plain": [
       "'3.9.12'"
      ]
     },
     "execution_count": 8,
     "metadata": {},
     "output_type": "execute_result"
    }
   ],
   "source": [
    "pl.python_version()"
   ]
  },
  {
   "cell_type": "code",
   "execution_count": 9,
   "id": "7efa195d",
   "metadata": {},
   "outputs": [
    {
     "data": {
      "text/plain": [
       "'C:\\\\Users\\\\marco\\\\ue\\\\PrograConcurrente'"
      ]
     },
     "execution_count": 9,
     "metadata": {},
     "output_type": "execute_result"
    }
   ],
   "source": [
    "pwd"
   ]
  },
  {
   "cell_type": "code",
   "execution_count": null,
   "id": "e9a5cd8e",
   "metadata": {},
   "outputs": [],
   "source": []
  }
 ],
 "metadata": {
  "kernelspec": {
   "display_name": "Python 3 (ipykernel)",
   "language": "python",
   "name": "python3"
  },
  "language_info": {
   "codemirror_mode": {
    "name": "ipython",
    "version": 3
   },
   "file_extension": ".py",
   "mimetype": "text/x-python",
   "name": "python",
   "nbconvert_exporter": "python",
   "pygments_lexer": "ipython3",
   "version": "3.9.12"
  }
 },
 "nbformat": 4,
 "nbformat_minor": 5
}
