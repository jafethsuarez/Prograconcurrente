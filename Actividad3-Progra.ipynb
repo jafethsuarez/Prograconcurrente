{
 "cells": [
  {
   "cell_type": "markdown",
   "id": "3922b056-33d0-4834-b5a3-dd49f3623cf1",
   "metadata": {},
   "source": [
    "<!-- PROFILE LINK -->\n",
    "\n",
    "<h1 style = \"text-align:center; font-size: 30px\">PROGRAMACIÓN CONCURRENTE Y DISTRIBUIDA</h1>\n",
    "<a href =\"https://github.com/jafethsuarez\">\n",
    "<img src=\"https://avatars.githubusercontent.com/u/44213172?v=4\" style=\"float:left;vertical-align:centre\" width=\"110\" height=\"110\" title = \"Marcos Jafeth Azabache Suarez 22251035\">\n",
    "<a href =\"https://github.com/sukuzhanay?tab=repositories\">\n",
    "<img src=\"https://media-exp1.licdn.com/dms/image/C4D0BAQEu_Aa76fcmPw/company-logo_200_200/0/1630998679429?e=2159024400&v=beta&t=2feC9GG7RWCWizTqsK5HzDWB1TL2DOQuAVwnMf6FFvk\" title = \"M41\" alt=\"UE\" width=\"110\" height=\"110\" style=\"float:right;vertical-align:centre\">"
   ]
  },
  {
   "cell_type": "code",
   "execution_count": 2,
   "id": "e9f123b6-41b1-459c-b742-b5d507c06fa4",
   "metadata": {},
   "outputs": [],
   "source": [
    "import multiprocessing as mp, threading as th #cores multi y threading cores"
   ]
  },
  {
   "cell_type": "code",
   "execution_count": 4,
   "id": "9b9328b2-95a2-42d8-946c-81e5bd6561f7",
   "metadata": {},
   "outputs": [
    {
     "data": {
      "text/plain": [
       "16"
      ]
     },
     "execution_count": 4,
     "metadata": {},
     "output_type": "execute_result"
    }
   ],
   "source": [
    "mp.cpu_count()"
   ]
  },
  {
   "cell_type": "code",
   "execution_count": 10,
   "id": "a09ab791-67fe-4e2e-b1c0-089a038dab4a",
   "metadata": {},
   "outputs": [
    {
     "data": {
      "text/plain": [
       "6"
      ]
     },
     "execution_count": 10,
     "metadata": {},
     "output_type": "execute_result"
    }
   ],
   "source": [
    "th.active_count()"
   ]
  },
  {
   "cell_type": "code",
   "execution_count": 13,
   "id": "425f88ef-14aa-4c20-9aa8-3043257bf90b",
   "metadata": {},
   "outputs": [
    {
     "data": {
      "text/plain": [
       "[<_MainThread(MainThread, started 12660)>,\n",
       " <Thread(IOPub, started daemon 16716)>,\n",
       " <Heartbeat(Heartbeat, started daemon 780)>,\n",
       " <ControlThread(Control, started daemon 7456)>,\n",
       " <HistorySavingThread(IPythonHistorySavingThread, started 17404)>,\n",
       " <ParentPollerWindows(Thread-4, started daemon 5996)>]"
      ]
     },
     "execution_count": 13,
     "metadata": {},
     "output_type": "execute_result"
    }
   ],
   "source": [
    "th.enumerate()"
   ]
  }
 ],
 "metadata": {
  "kernelspec": {
   "display_name": "Python 3 (ipykernel)",
   "language": "python",
   "name": "python3"
  },
  "language_info": {
   "codemirror_mode": {
    "name": "ipython",
    "version": 3
   },
   "file_extension": ".py",
   "mimetype": "text/x-python",
   "name": "python",
   "nbconvert_exporter": "python",
   "pygments_lexer": "ipython3",
   "version": "3.10.7"
  }
 },
 "nbformat": 4,
 "nbformat_minor": 5
}
