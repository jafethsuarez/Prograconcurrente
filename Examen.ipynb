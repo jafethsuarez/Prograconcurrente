{
 "cells": [
  {
   "cell_type": "markdown",
   "id": "e9187ce2-a683-467c-ac71-95d71724bb9b",
   "metadata": {},
   "source": [
    "<!-- PROFILE LINK -->\n",
    "\n",
    "<h1 style = \"text-align:center; font-size: 30px\">Class Participation</h1>\n",
    "<a href =\"https://github.com/jafethsuarez\">\n",
    "<img src=\"https://avatars.githubusercontent.com/u/44213172?v=4\" style=\"float:left;vertical-align:centre\" width=\"110\" height=\"110\" title = \"Marcos Jafeth Azabache Suarez 22251035\">\n",
    "<a href =\"https://github.com/sukuzhanay?tab=repositories\">\n",
    "<img src=\"https://media-exp1.licdn.com/dms/image/C4D0BAQEu_Aa76fcmPw/company-logo_200_200/0/1630998679429?e=2159024400&v=beta&t=2feC9GG7RWCWizTqsK5HzDWB1TL2DOQuAVwnMf6FFvk\" title = \"M41\" alt=\"UE\" width=\"110\" height=\"110\" style=\"float:right;vertical-align:centre\">"
   ]
  },
  {
   "cell_type": "code",
   "execution_count": null,
   "id": "870ca49e-9b8c-4f7b-95a6-d726239dcdd4",
   "metadata": {},
   "outputs": [],
   "source": [
    "import threading \n",
    "import os, platform, requests, json"
   ]
  },
  {
   "cell_type": "code",
   "execution_count": null,
   "id": "3a0ca5a6-a18d-4d24-9c49-042ddd5b7c26",
   "metadata": {},
   "outputs": [],
   "source": [
    "#Matar numero de veces \n",
    "numero_de_veces_hasta_matar_1 = 100\n",
    "numero_de_veces_hasta_matar_2 = 50\n",
    "numero_de_veces_hasta_matar_3 = 20\n",
    "numero_de_veces_hasta_matar_4 = 30\n",
    "numero_de_veces_hasta_matar_5 = 20\n"
   ]
  },
  {
   "cell_type": "code",
   "execution_count": null,
   "id": "cc5a1014-a908-47d0-b30b-7031fceadabc",
   "metadata": {},
   "outputs": [],
   "source": [
    "url_=\"https://github.com/sukuzhanay\"\n",
    "url_2= \"https://www.linkedin.com/in/sucuzhanay/\"\n",
    "url_3= \"https://www.credly.com/users/christian-vladimir-sucuzhanay-arevalo/badges\"\n",
    "url_4= \"https://stackoverflow.com/users/6025932/christian-vladimir-sucuzhanay\"\n",
    "url_5= \"https://www.cloudskillsboost.google/public_profiles/c094dd66-f266-4f77-a808-a0601b187009\""
   ]
  },
  {
   "cell_type": "code",
   "execution_count": null,
   "id": "1a0eb1af-9783-440b-937e-60572740df93",
   "metadata": {},
   "outputs": [],
   "source": [
    "#Ataquenumero1:\n",
    "def matar_uem(): \n",
    "    print(requests.get(url_))\n",
    "    threading.current_thread()\n",
    "for i in range(numero_de_veces_hasta_matar_1):\n",
    "    threading.Thread(target=matar_uem()).start()"
   ]
  },
  {
   "cell_type": "code",
   "execution_count": null,
   "id": "4e7ca401-d3c5-40e2-b990-36303793abc9",
   "metadata": {},
   "outputs": [],
   "source": [
    "#AtaqueNumero2\n",
    "def matar_uem(): \n",
    "    print(requests.get(url_2))\n",
    "    threading.current_thread()\n",
    "for i in range(numero_de_veces_hasta_matar_2):\n",
    "    threading.Thread(target=matar_uem()).start()"
   ]
  },
  {
   "cell_type": "code",
   "execution_count": null,
   "id": "07949dc9-c0a0-4ffd-a547-e622dcc79774",
   "metadata": {},
   "outputs": [],
   "source": [
    "#AtaqueNumero3\n",
    "def matar_uem(): \n",
    "    print(requests.get(url_3))\n",
    "    threading.current_thread()\n",
    "for i in range(numero_de_veces_hasta_matar_3):\n",
    "    threading.Thread(target=matar_uem()).start()"
   ]
  },
  {
   "cell_type": "code",
   "execution_count": null,
   "id": "d3243715-57a6-4779-b3ce-60530f104f57",
   "metadata": {},
   "outputs": [],
   "source": [
    "#AtaqueNumero4\n",
    "def matar_uem(): \n",
    "    print(requests.get(url_4))\n",
    "    threading.current_thread()\n",
    "for i in range(numero_de_veces_hasta_matar_4):\n",
    "    threading.Thread(target=matar_uem()).start()"
   ]
  },
  {
   "cell_type": "code",
   "execution_count": null,
   "id": "ce5e58a0-c9fc-4d94-afe1-239706beeb54",
   "metadata": {},
   "outputs": [],
   "source": [
    "#AtaqueNumero5\n",
    "def matar_uem(): \n",
    "    print(requests.get(url_5))\n",
    "    threading.current_thread()\n",
    "for i in range(numero_de_veces_hasta_matar_5):\n",
    "    threading.Thread(target=matar_uem()).start()"
   ]
  },
  {
   "cell_type": "code",
   "execution_count": 26,
   "id": "3270df17-1c74-43fc-a3ae-946d526b6ba2",
   "metadata": {},
   "outputs": [
    {
     "name": "stdout",
     "output_type": "stream",
     "text": [
      "{'X-GUploader-UploadID': 'ADPycdtpQl_kXf1MR_9ad5tJ3-IR3kdR6fgcHuiCY9c8IK_4y_Ew1x6XLNhJOfBeTyzEySt7Q9ZlsrtjsqiZ4yMtRd0Cej-Dzlrm', 'Content-Type': 'application/pdf', 'Content-Disposition': 'attachment; filename=\"Dossier Piso Centro de Madrid LR.pdf\"; filename*=UTF-8\\'\\'Dossier%20Piso%20Centro%20de%20Madrid%20LR.pdf', 'Access-Control-Allow-Origin': '*', 'Access-Control-Allow-Credentials': 'false', 'Access-Control-Allow-Headers': 'Accept, Accept-Language, Authorization, Cache-Control, Content-Disposition, Content-Encoding, Content-Language, Content-Length, Content-MD5, Content-Range, Content-Type, Date, developer-token, financial-institution-id, X-Goog-Sn-Metadata, X-Goog-Sn-PatientId, GData-Version, google-cloud-resource-prefix, linked-customer-id, login-customer-id, x-goog-request-params, Host, If-Match, If-Modified-Since, If-None-Match, If-Unmodified-Since, Origin, OriginToken, Pragma, Range, request-id, Slug, Transfer-Encoding, hotrod-board-name, hotrod-chrome-cpu-model, hotrod-chrome-processors, Want-Digest, X-Ad-Manager-Impersonation, x-chrome-connected, X-ClientDetails, X-Client-Version, X-Firebase-Locale, X-Goog-Firebase-Installations-Auth, X-Firebase-Client, X-Firebase-Client-Log-Type, X-Firebase-GMPID, X-Firebase-Auth-Token, X-Firebase-AppCheck, X-Goog-Drive-Client-Version, X-Goog-Drive-Resource-Keys, X-GData-Client, X-GData-Key, X-GoogApps-Allowed-Domains, X-Goog-AdX-Buyer-Impersonation, X-Goog-Api-Client, X-Goog-Visibilities, X-Goog-AuthUser, x-goog-ext-124712974-jspb, x-goog-ext-467253834-jspb, x-goog-ext-251363160-jspb, x-goog-ext-259736195-jspb, X-Goog-PageId, X-Goog-Encode-Response-If-Executable, X-Goog-Correlation-Id, X-Goog-Request-Info, X-Goog-Request-Reason, X-Goog-Experiments, x-goog-iam-authority-selector, x-goog-iam-authorization-token, X-Goog-Spatula, X-Goog-Travel-Bgr, X-Goog-Travel-Settings, X-Goog-Upload-Command, X-Goog-Upload-Content-Disposition, X-Goog-Upload-Content-Length, X-Goog-Upload-Content-Type, X-Goog-Upload-File-Name, X-Goog-Upload-Header-Content-Encoding, X-Goog-Upload-Header-Content-Length, X-Goog-Upload-Header-Content-Type, X-Goog-Upload-Header-Transfer-Encoding, X-Goog-Upload-Offset, X-Goog-Upload-Protocol, x-goog-user-project, X-Goog-Visitor-Id, X-Goog-FieldMask, X-Google-Project-Override, X-Goog-Api-Key, X-HTTP-Method-Override, X-JavaScript-User-Agent, X-Pan-Versionid, X-Proxied-User-IP, X-Origin, X-Referer, X-Requested-With, X-Stadia-Client-Context, X-Upload-Content-Length, X-Upload-Content-Type, X-Use-Alt-Service, X-Use-HTTP-Status-Code-Override, X-Ios-Bundle-Identifier, X-Android-Package, X-Ariane-Xsrf-Token, X-YouTube-VVT, X-YouTube-Page-CL, X-YouTube-Page-Timestamp, X-Compass-Routing-Destination, x-framework-xsrf-token, X-Goog-Meeting-ABR, X-Goog-Meeting-Botguardid, X-Goog-Meeting-ClientInfo, X-Goog-Meeting-ClientVersion, X-Goog-Meeting-Debugid, X-Goog-Meeting-Identifier, X-Goog-Meeting-Interop-Cohorts, X-Goog-Meeting-Interop-Type, X-Goog-Meeting-RtcClient, X-Goog-Meeting-StartSource, X-Goog-Meeting-Token, X-Goog-Meeting-ViewerInfo, X-Goog-Meeting-Viewer-Token, X-Client-Data, x-sdm-id-token, X-Sfdc-Authorization, MIME-Version, Content-Transfer-Encoding, X-Earth-Engine-App-ID-Token, X-Earth-Engine-Computation-Profile, X-Earth-Engine-Computation-Profiling, X-Play-Console-Experiments-Override, X-Play-Console-Session-Id, x-alkali-account-key, x-alkali-application-key, x-alkali-auth-apps-namespace, x-alkali-auth-entities-namespace, x-alkali-auth-entity, x-alkali-client-locale, EES-S7E-MODE, cast-device-capabilities, X-Server-Timeout, x-foyer-client-environment, x-goog-greenenergyuserappservice-metadata, x-goog-sherlog-context', 'Access-Control-Allow-Methods': 'GET,HEAD,OPTIONS', 'Content-Length': '986596', 'Date': 'Thu, 13 Oct 2022 16:56:22 GMT', 'Expires': 'Thu, 13 Oct 2022 16:56:22 GMT', 'Cache-Control': 'private, max-age=0', 'X-Goog-Hash': 'crc32c=/w7leQ==', 'Server': 'UploadServer', 'Alt-Svc': 'h3=\":443\"; ma=2592000,h3-29=\":443\"; ma=2592000,h3-Q050=\":443\"; ma=2592000,h3-Q046=\":443\"; ma=2592000,h3-Q043=\":443\"; ma=2592000,quic=\":443\"; ma=2592000; v=\"46,43\"'}\n",
      "tiempo de descarga: 1.0887880325317383\n"
     ]
    }
   ],
   "source": [
    "import threading, os, platform, requests, json\n",
    "import time\n",
    "url_ = [\"https://drive.google.com/uc?export=download&id=1ADxSr55eYTRSRF-44LXnKbY4n5bMWaY-\"]\n",
    "save_dir = r'/UE/Practica_Concurrente/'\n",
    "time_ini = time.time()\n",
    "def download(x): \n",
    "    a = requests.get(x)\n",
    "    print(a.headers)\n",
    "    threading.current_thread()\n",
    "for i in range(len(url_)):\n",
    "    threading.Thread(target=download(url_[i])).start()\n",
    "time_Final=time.time()\n",
    "resta = time_Final-time_ini\n",
    "print (\"tiempo de descarga:\",resta)"
   ]
  },
  {
   "cell_type": "code",
   "execution_count": null,
   "id": "04f44712-30b1-4589-b177-46667ed1fa29",
   "metadata": {},
   "outputs": [],
   "source": []
  }
 ],
 "metadata": {
  "kernelspec": {
   "display_name": "Python 3 (ipykernel)",
   "language": "python",
   "name": "python3"
  },
  "language_info": {
   "codemirror_mode": {
    "name": "ipython",
    "version": 3
   },
   "file_extension": ".py",
   "mimetype": "text/x-python",
   "name": "python",
   "nbconvert_exporter": "python",
   "pygments_lexer": "ipython3",
   "version": "3.10.7"
  }
 },
 "nbformat": 4,
 "nbformat_minor": 5
}
